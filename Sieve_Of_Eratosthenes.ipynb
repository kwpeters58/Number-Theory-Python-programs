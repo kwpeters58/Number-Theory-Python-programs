{
 "cells": [
  {
   "cell_type": "code",
   "execution_count": 1,
   "metadata": {},
   "outputs": [
    {
     "name": "stdout",
     "output_type": "stream",
     "text": [
      "[2, 3, 5, 7, 11, 13, 17, 19, 23, 29, 31, 37, 41, 43, 47, 53, 59, 61, 67, 71, 73, 79, 83, 89, 97, 101, 103, 107, 109, 113, 127, 131, 137, 139, 149, 151, 157, 163, 167, 173, 179, 181, 191, 193, 197, 199]\n"
     ]
    }
   ],
   "source": [
    "def sieve_of_Eratosthenes(num):\n",
    "    limitn = num+1\n",
    "    not_prime_num = set()\n",
    "    prime_nums = []\n",
    "\n",
    "    for i in range(2, limitn):\n",
    "        if i in not_prime_num:\n",
    "            continue\n",
    "\n",
    "        for f in range(i*2, limitn, i):\n",
    "            not_prime_num.add(f)\n",
    "\n",
    "        prime_nums.append(i)\n",
    "\n",
    "    return prime_nums\n",
    "\n",
    "print(sieve_of_Eratosthenes(200));"
   ]
  }
 ],
 "metadata": {
  "kernelspec": {
   "display_name": "Python 3",
   "language": "python",
   "name": "python3"
  },
  "language_info": {
   "codemirror_mode": {
    "name": "ipython",
    "version": 3
   },
   "file_extension": ".py",
   "mimetype": "text/x-python",
   "name": "python",
   "nbconvert_exporter": "python",
   "pygments_lexer": "ipython3",
   "version": "3.8.3"
  }
 },
 "nbformat": 4,
 "nbformat_minor": 4
}
