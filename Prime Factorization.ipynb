{
 "cells": [
  {
   "cell_type": "code",
   "execution_count": 8,
   "metadata": {},
   "outputs": [],
   "source": [
    "import sys\n",
    "import math\n",
    "def prime_factorize(n):\n",
    "    factors = []\n",
    "    number = abs(n)\n",
    "    factor = 2\n",
    "\n",
    "    while number > 1:\n",
    "        factor = get_next_prime_factor(number, factor)\n",
    "        factors.append(factor)\n",
    "        number /= factor\n",
    "\n",
    "    if n < -1:  # If we'd check for < 0, -1 would give us trouble\n",
    "        factors[0] = -factors[0]\n",
    "\n",
    "    return factors\n",
    "\n",
    "\n",
    "def get_next_prime_factor(n, f):\n",
    "    if n % 2 == 0:\n",
    "        return 2\n",
    "\n",
    "    for x in range(max(f, 3), int(math.sqrt(n) + 1), 2):\n",
    "        if n % x == 0:\n",
    "            return x\n",
    "\n",
    "    return n"
   ]
  },
  {
   "cell_type": "code",
   "execution_count": 9,
   "metadata": {},
   "outputs": [
    {
     "data": {
      "text/plain": [
       "[2, 2, 2, 2, 2, 5, 5, 5.0]"
      ]
     },
     "execution_count": 9,
     "metadata": {},
     "output_type": "execute_result"
    }
   ],
   "source": [
    "prime_factorize(4000)"
   ]
  }
 ],
 "metadata": {
  "kernelspec": {
   "display_name": "Python 3",
   "language": "python",
   "name": "python3"
  },
  "language_info": {
   "codemirror_mode": {
    "name": "ipython",
    "version": 3
   },
   "file_extension": ".py",
   "mimetype": "text/x-python",
   "name": "python",
   "nbconvert_exporter": "python",
   "pygments_lexer": "ipython3",
   "version": "3.8.3"
  }
 },
 "nbformat": 4,
 "nbformat_minor": 4
}
