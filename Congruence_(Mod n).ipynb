{
 "cells": [
  {
   "cell_type": "code",
   "execution_count": 5,
   "metadata": {},
   "outputs": [
    {
     "name": "stdout",
     "output_type": "stream",
     "text": [
      " Please Enter the First Value a: 47\n",
      " Please Enter the (mod n): 7\n",
      "\n",
      " 47 mod 7 = 5\n"
     ]
    }
   ],
   "source": [
    "# What is the remainder after dividing a by n?  What is the natural representative of a modulo n?\n",
    "\n",
    "a = int(input(\" Please Enter the First Value a: \"))\n",
    "n = int(input(\" Please Enter the (mod n): \"))\n",
    "remainder=a % n\n",
    "\n",
    "    \n",
    "print(\"\\n {0} mod {1} = {2}\".format(a, n, remainder))"
   ]
  },
  {
   "cell_type": "code",
   "execution_count": null,
   "metadata": {},
   "outputs": [],
   "source": []
  }
 ],
 "metadata": {
  "kernelspec": {
   "display_name": "Python 3",
   "language": "python",
   "name": "python3"
  },
  "language_info": {
   "codemirror_mode": {
    "name": "ipython",
    "version": 3
   },
   "file_extension": ".py",
   "mimetype": "text/x-python",
   "name": "python",
   "nbconvert_exporter": "python",
   "pygments_lexer": "ipython3",
   "version": "3.8.3"
  }
 },
 "nbformat": 4,
 "nbformat_minor": 4
}
