{
 "cells": [
  {
   "cell_type": "code",
   "execution_count": 9,
   "metadata": {},
   "outputs": [
    {
     "name": "stdout",
     "output_type": "stream",
     "text": [
      " Please Enter the First Value a: 50\n",
      " Please Enter the Second Value b: 205\n",
      "\n",
      " GCD of 50 and 205 is 5\n"
     ]
    }
   ],
   "source": [
    "# Python Program to find GCD of Two Numbers\n",
    "import math \n",
    "a = int(input(\" Please Enter the First Value a: \"))\n",
    "b = int(input(\" Please Enter the Second Value b: \"))\n",
    "gcd=math.gcd(a,b)\n",
    "\n",
    "    \n",
    "print(\"\\n GCD of {0} and {1} is {2}\".format(a, b, gcd))"
   ]
  }
 ],
 "metadata": {
  "kernelspec": {
   "display_name": "Python 3",
   "language": "python",
   "name": "python3"
  },
  "language_info": {
   "codemirror_mode": {
    "name": "ipython",
    "version": 3
   },
   "file_extension": ".py",
   "mimetype": "text/x-python",
   "name": "python",
   "nbconvert_exporter": "python",
   "pygments_lexer": "ipython3",
   "version": "3.8.3"
  }
 },
 "nbformat": 4,
 "nbformat_minor": 4
}
