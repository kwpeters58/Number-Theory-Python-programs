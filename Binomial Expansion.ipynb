{
 "cells": [
  {
   "cell_type": "code",
   "execution_count": 5,
   "metadata": {},
   "outputs": [
    {
     "name": "stdout",
     "output_type": "stream",
     "text": [
      "( a + b ) ^ n\n",
      "Enter the coefficient of a: 2\n",
      "Enter the coefficient of b: -3\n",
      "Enter n: 7\n",
      "(2a+-3b)^7  =   128a^7  +  -1344a^6b  +  6048a^5b^2  +  -15120a^4b^3  +  22680a^3b^4  +  -20412a^2b^5  +  10206ab^6  +  -2187b^7\n"
     ]
    }
   ],
   "source": [
    "def form_series(co_a, co_b, n):\n",
    "    \"\"\"\n",
    "    This method creates the Binomial Theorem Series.\n",
    "    :param co_a: coefficient of a\n",
    "    :param co_b: coefficient of b\n",
    "    :param n: power of the equation\n",
    "    :return: None\n",
    "    \"\"\"\n",
    "    def formatting(next_term, coeffs):\n",
    "        \"\"\"\n",
    "        This is an inner function which formats the\n",
    "        terms of the binomial series.\n",
    "        :param next_term: coefficient of next term\n",
    "        :param coeffs: powers of a and b\n",
    "        :return: formatted term\n",
    "        \"\"\"\n",
    "        if next_term == 1:\n",
    "            coeffs.insert(0, \"\")\n",
    "        else:\n",
    "            coeffs.insert(0, next_term)\n",
    "        if coeffs[1] == \"^0\" and coeffs[2] == \"^0\":\n",
    "            return coeffs[0]\n",
    "        elif coeffs[1] == \"^0\":\n",
    "            return \"{}b{}\".format(coeffs[0], coeffs[2])\n",
    "        elif coeffs[2] == \"^0\":\n",
    "            return \"{}a{}\".format(coeffs[0], coeffs[1])\n",
    "        elif coeffs[1] == \"^1\" and coeffs[2] == \"^1\":\n",
    "            return \"{}ab\".format(coeffs[0])\n",
    "        elif coeffs[1] == \"^1\":\n",
    "            return \"{}ab{}\".format(coeffs[0], coeffs[2])\n",
    "        elif coeffs[2] == \"^1\":\n",
    "            return \"a{}b\".format(coeffs[0], coeffs[1])\n",
    "        return \"{}a{}b{}\".format(coeffs[0], coeffs[1], coeffs[2])\n",
    "    # Initializing a list named as `series`\n",
    "    series = list()\n",
    "    # Calculating the First Term, Formatting it\n",
    "    # and Appending it to our Series\n",
    "    first_term = pow(co_a, n)\n",
    "    coeffs = [\"^\" + str(n), \"^0\"]\n",
    "    series.append(formatting(first_term, coeffs) + \"  +  \")\n",
    "    next_term = first_term\n",
    "    # Calculating, Formatting and Appending\n",
    "    # the remaining terms.\n",
    "    for i in range(1, n + 1):\n",
    "        # We can find next term using the\n",
    "        # previous term and the formula\n",
    "        # mentioned below.\n",
    "        next_term = int(next_term * co_b * (n - i + 1) / (i * co_a))\n",
    "        # Pre-formatted list creation\n",
    "        coeffs = [\"\" if x == 1 else \"^\" + str(x) for x in [n - i, i]]\n",
    "        # Append till last term is not reached\n",
    "        if i != n:\n",
    "            series.append(formatting(next_term, coeffs) + \"  +  \")\n",
    "        # Append the last term.\n",
    "        else:\n",
    "            series.append(formatting(next_term, coeffs))\n",
    "    # Joining the series as a string and printing it.\n",
    "    print(\"\".join(series))\n",
    "if __name__ == \"__main__\":\n",
    "    # Taking inputs\n",
    "    print(\"( a + b ) ^ n\")\n",
    "    co_a = int(input(\"Enter the coefficient of a: \"))\n",
    "    co_b = int(input(\"Enter the coefficient of b: \"))\n",
    "    n = int(input(\"Enter n: \"))\n",
    "    print(\"({}a+{}b)^{}  =  \".format(co_a, co_b, n),end=\" \")\n",
    "    # Calling the Function\n",
    "    form_series(co_a, co_b, n)"
   ]
  }
 ],
 "metadata": {
  "kernelspec": {
   "display_name": "Python 3",
   "language": "python",
   "name": "python3"
  },
  "language_info": {
   "codemirror_mode": {
    "name": "ipython",
    "version": 3
   },
   "file_extension": ".py",
   "mimetype": "text/x-python",
   "name": "python",
   "nbconvert_exporter": "python",
   "pygments_lexer": "ipython3",
   "version": "3.8.3"
  }
 },
 "nbformat": 4,
 "nbformat_minor": 4
}
