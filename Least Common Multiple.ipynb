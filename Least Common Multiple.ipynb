{
 "cells": [
  {
   "cell_type": "code",
   "execution_count": 3,
   "metadata": {},
   "outputs": [
    {
     "name": "stdout",
     "output_type": "stream",
     "text": [
      " Please Enter the First Value a: 45\n",
      " Please Enter the Second Value b: 10\n",
      "\n",
      " LCM of 45 and 10 is 90\n"
     ]
    }
   ],
   "source": [
    "# Python Program to find LCM of Two Numbers\n",
    "import numpy as np\n",
    "\n",
    "a = int(input(\" Please Enter the First Value a: \"))\n",
    "b = int(input(\" Please Enter the Second Value b: \"))\n",
    "lcm = np.lcm(a,b)\n",
    "\n",
    "    \n",
    "print(\"\\n LCM of {0} and {1} is {2}\".format(a, b, lcm))"
   ]
  }
 ],
 "metadata": {
  "kernelspec": {
   "display_name": "Python 3",
   "language": "python",
   "name": "python3"
  },
  "language_info": {
   "codemirror_mode": {
    "name": "ipython",
    "version": 3
   },
   "file_extension": ".py",
   "mimetype": "text/x-python",
   "name": "python",
   "nbconvert_exporter": "python",
   "pygments_lexer": "ipython3",
   "version": "3.8.3"
  }
 },
 "nbformat": 4,
 "nbformat_minor": 4
}
