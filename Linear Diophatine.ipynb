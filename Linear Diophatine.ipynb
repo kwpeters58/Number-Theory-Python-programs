{
 "cells": [
  {
   "cell_type": "code",
   "execution_count": 2,
   "metadata": {},
   "outputs": [],
   "source": [
    "def solve_LDE(a,b,c):\n",
    "    '''\n",
    "    Describes all of the solutions to the linear Diophantine equation\n",
    "    ax + by = c.  There are either no solutions or infinitely many solutions.\n",
    "    Prints a description of the solution set, and returns None if there are no solutions\n",
    "    or returns a single solution if one exists.\n",
    "    '''  \n",
    "    u = a # We use u instead of dividend.\n",
    "    v = b # We use v instead of divisor.\n",
    "    u_hops, u_skips = 1,0 # u is built from one hop (a) and no skips.\n",
    "    v_hops, v_skips = 0,1 # v is built from no hops and one skip (b).\n",
    "    while v != 0:   # We could just write while v:\n",
    "        q = u // v  # q stands for quotient.\n",
    "        r = u % v  # r stands for remainder.  So u = q(v) + r.\n",
    "        \n",
    "        r_hops = u_hops - q * v_hops  # Tally hops\n",
    "        r_skips = u_skips - q * v_skips  # Tally skips\n",
    "        \n",
    "        u,v = v,r  # The new dividend,divisor is the old divisor,remainder.\n",
    "        u_hops, v_hops = v_hops, r_hops # The new u_hops, v_hops is the old v_hops, r_hops\n",
    "        u_skips, v_skips = v_skips, r_skips # The new u_skips, v_skips is the old v_skips, r_skips\n",
    "    \n",
    "    g = u # The variable g now describes the GCD of a and b.\n",
    "    \n",
    "    if c%g == 0:  # When GCD(a,b) divides c...\n",
    "        d = c//g\n",
    "        x = d * u_hops\n",
    "        y = d * u_skips  # Now ax + by = c is a specific solution!\n",
    "        print(\"{} x + {} y = {} if and only if \".format(a, b, c))\n",
    "        print(\"x = {} + {} n and y = {} - {} n, for some integer n.\".format(x,b//g,y,-a//g))\n",
    "        return x,y\n",
    "    else:  # When GCD(a,b) does not divide c...\n",
    "        print(\"There are no solutions to {} x + {} y = {},\".format(a,b,c))\n",
    "        print(\"because GCD({}, {}) = {}, which does not divide {}.\".format(a,b,g,c))\n",
    "        return None"
   ]
  },
  {
   "cell_type": "code",
   "execution_count": 2,
   "metadata": {},
   "outputs": [
    {
     "name": "stdout",
     "output_type": "stream",
     "text": [
      "3 x + 5 y = 7 if and only if \n",
      "x = 14 + 5 n and y = -7 - -3 n, for some integer n.\n"
     ]
    },
    {
     "data": {
      "text/plain": [
       "(14, -7)"
      ]
     },
     "execution_count": 2,
     "metadata": {},
     "output_type": "execute_result"
    }
   ],
   "source": [
    "solve_LDE(3,5,7)"
   ]
  },
  {
   "cell_type": "code",
   "execution_count": 4,
   "metadata": {},
   "outputs": [
    {
     "name": "stdout",
     "output_type": "stream",
     "text": [
      "2 x + 7 y = 6 if and only if \n",
      "x = -18 + 7 n and y = 6 - -2 n, for some integer n.\n"
     ]
    },
    {
     "data": {
      "text/plain": [
       "(-18, 6)"
      ]
     },
     "execution_count": 4,
     "metadata": {},
     "output_type": "execute_result"
    }
   ],
   "source": [
    "solve_LDE(2,7,6)"
   ]
  },
  {
   "cell_type": "code",
   "execution_count": null,
   "metadata": {},
   "outputs": [],
   "source": []
  }
 ],
 "metadata": {
  "kernelspec": {
   "display_name": "Python 3",
   "language": "python",
   "name": "python3"
  },
  "language_info": {
   "codemirror_mode": {
    "name": "ipython",
    "version": 3
   },
   "file_extension": ".py",
   "mimetype": "text/x-python",
   "name": "python",
   "nbconvert_exporter": "python",
   "pygments_lexer": "ipython3",
   "version": "3.8.3"
  }
 },
 "nbformat": 4,
 "nbformat_minor": 4
}
