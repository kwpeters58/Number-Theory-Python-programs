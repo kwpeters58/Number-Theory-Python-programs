{
 "cells": [
  {
   "cell_type": "code",
   "execution_count": 1,
   "metadata": {},
   "outputs": [],
   "source": [
    "# Find the gcd using the Euclidean Algoritm\n",
    "def Euclidean_algorithm(a,b):\n",
    "    dividend = a\n",
    "    divisor = b\n",
    "    while divisor != 0:   # Recall that != means \"is not equal to\".\n",
    "        quotient = dividend // divisor\n",
    "        remainder = dividend % divisor\n",
    "        print(\"{} = {} ({}) + {}\".format(dividend, quotient, divisor, remainder))\n",
    "        dividend = divisor  \n",
    "        divisor = remainder"
   ]
  },
  {
   "cell_type": "code",
   "execution_count": 2,
   "metadata": {},
   "outputs": [
    {
     "name": "stdout",
     "output_type": "stream",
     "text": [
      "640 = 6 (96) + 64\n",
      "96 = 1 (64) + 32\n",
      "64 = 2 (32) + 0\n"
     ]
    }
   ],
   "source": [
    "Euclidean_algorithm(640,96)"
   ]
  },
  {
   "cell_type": "code",
   "execution_count": 3,
   "metadata": {},
   "outputs": [],
   "source": [
    "def hop_and_skip(a,b):\n",
    "    '''\n",
    "    Takes two integer arguments a,b, and prints a sentence of the form\n",
    "    GCD(a,b) = x(a) + y(b).  The method is the Euclidean algorithm,\n",
    "    tallying hops (units of a) and skips (units of b) along the way.\n",
    "    '''\n",
    "    u = a # We use u instead of dividend.\n",
    "    v = b # We use v instead of divisor.\n",
    "    u_hops, u_skips = 1,0 # u is built from one hop (a) and no skips, for now.\n",
    "    v_hops, v_skips = 0,1 # v is built from no hops and one skip (b), for now.\n",
    "    while v != 0:   # We could just write \"while v:\"\n",
    "        q = u // v  # q stands for quotient.\n",
    "        r = u % v  # r stands for remainder.  So u = q(v) + r.\n",
    "        \n",
    "        r_hops = u_hops - q * v_hops  # Tally hops\n",
    "        r_skips = u_skips - q * v_skips  # Tally skips\n",
    "        \n",
    "        u,v = v,r  # The new dividend,divisor is the old divisor,remainder.\n",
    "        u_hops, v_hops = v_hops, r_hops # The new u_hops, v_hops is the old v_hops, r_hops\n",
    "        u_skips, v_skips = v_skips, r_skips # The new u_skips, v_skips is the old v_skips, r_skips\n",
    "    \n",
    "    print(\"{} = {}({}) + {}({})\".format(u,u_hops,a,u_skips,b))"
   ]
  },
  {
   "cell_type": "code",
   "execution_count": 5,
   "metadata": {},
   "outputs": [
    {
     "name": "stdout",
     "output_type": "stream",
     "text": [
      "32 = -1(640) + 7(96)\n"
     ]
    }
   ],
   "source": [
    "hop_and_skip(640,96)"
   ]
  },
  {
   "cell_type": "code",
   "execution_count": null,
   "metadata": {},
   "outputs": [],
   "source": []
  }
 ],
 "metadata": {
  "kernelspec": {
   "display_name": "Python 3",
   "language": "python",
   "name": "python3"
  },
  "language_info": {
   "codemirror_mode": {
    "name": "ipython",
    "version": 3
   },
   "file_extension": ".py",
   "mimetype": "text/x-python",
   "name": "python",
   "nbconvert_exporter": "python",
   "pygments_lexer": "ipython3",
   "version": "3.8.3"
  }
 },
 "nbformat": 4,
 "nbformat_minor": 4
}
